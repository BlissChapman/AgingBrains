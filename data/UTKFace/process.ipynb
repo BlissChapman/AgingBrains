{
 "cells": [
  {
   "cell_type": "code",
   "execution_count": 1,
   "metadata": {},
   "outputs": [],
   "source": [
    "import os\n",
    "from skimage import io\n",
    "from tqdm import tqdm"
   ]
  },
  {
   "cell_type": "code",
   "execution_count": 2,
   "metadata": {},
   "outputs": [],
   "source": [
    "files = os.listdir('raw/')"
   ]
  },
  {
   "cell_type": "code",
   "execution_count": 3,
   "metadata": {},
   "outputs": [],
   "source": [
    "import re\n",
    "def read_age(filename):\n",
    "    match = re.search(r'(\\d+)_', filename)\n",
    "    return match.group(1)"
   ]
  },
  {
   "cell_type": "code",
   "execution_count": 4,
   "metadata": {},
   "outputs": [],
   "source": [
    "def process_age():\n",
    "    for file in tqdm(files):\n",
    "        age = read_age(file)\n",
    "        class_dir = 'age/{}/'.format(age)\n",
    "        if not os.path.exists(class_dir):\n",
    "            os.mkdir(class_dir)\n",
    "        img = io.imread('raw/' + file)\n",
    "        io.imsave(class_dir + file, img)"
   ]
  },
  {
   "cell_type": "code",
   "execution_count": 5,
   "metadata": {},
   "outputs": [],
   "source": [
    "import re\n",
    "def read_gender(filename):\n",
    "    match = re.search(r'\\d+_(\\d+)', filename)\n",
    "    gender = 'male' if match.group(1) == '0' else 'female'\n",
    "    return gender"
   ]
  },
  {
   "cell_type": "code",
   "execution_count": 6,
   "metadata": {},
   "outputs": [],
   "source": [
    "def process_gender():\n",
    "    for file in tqdm(files):\n",
    "        gender = read_gender(file)\n",
    "        class_dir = 'gender/{}/'.format(gender)\n",
    "        if not os.path.exists(class_dir):\n",
    "            os.mkdir(class_dir)\n",
    "        img = io.imread('raw/' + file)\n",
    "        io.imsave(class_dir + file, img)"
   ]
  },
  {
   "cell_type": "code",
   "execution_count": 7,
   "metadata": {},
   "outputs": [
    {
     "name": "stderr",
     "output_type": "stream",
     "text": [
      "100%|██████████| 23708/23708 [01:22<00:00, 288.11it/s]\n"
     ]
    }
   ],
   "source": [
    "process_gender()"
   ]
  },
  {
   "cell_type": "code",
   "execution_count": null,
   "metadata": {},
   "outputs": [],
   "source": []
  }
 ],
 "metadata": {
  "kernelspec": {
   "display_name": "Python [default]",
   "language": "python",
   "name": "python3"
  },
  "language_info": {
   "codemirror_mode": {
    "name": "ipython",
    "version": 3
   },
   "file_extension": ".py",
   "mimetype": "text/x-python",
   "name": "python",
   "nbconvert_exporter": "python",
   "pygments_lexer": "ipython3",
   "version": "3.5.5"
  }
 },
 "nbformat": 4,
 "nbformat_minor": 2
}
