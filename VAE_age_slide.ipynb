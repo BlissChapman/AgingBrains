{
 "cells": [
  {
   "cell_type": "code",
   "execution_count": null,
   "metadata": {},
   "outputs": [],
   "source": [
    "from processed_data import GreyUTKFace\n",
    "from models.GreyUTKFaceVAE import Model as VAE\n",
    "from utils import device\n",
    "import matplotlib.pyplot as plt\n",
    "import numpy as np\n",
    "import tqdm\n",
    "import torch"
   ]
  },
  {
   "cell_type": "markdown",
   "metadata": {},
   "source": [
    "# VAE Model"
   ]
  },
  {
   "cell_type": "code",
   "execution_count": 22,
   "metadata": {},
   "outputs": [],
   "source": [
    "model = VAE(device)\n",
    "model.to(device)\n",
    "model.load()\n",
    "pass"
   ]
  },
  {
   "cell_type": "markdown",
   "metadata": {},
   "source": [
    "# A Face"
   ]
  },
  {
   "cell_type": "code",
   "execution_count": 18,
   "metadata": {},
   "outputs": [],
   "source": [
    "test_dataset = GreyUTKFace.Dataset(train=False, sample=False)"
   ]
  },
  {
   "cell_type": "code",
   "execution_count": 19,
   "metadata": {},
   "outputs": [],
   "source": [
    "a_face, an_age = test_dataset[0]"
   ]
  },
  {
   "cell_type": "code",
   "execution_count": 20,
   "metadata": {
    "scrolled": false
   },
   "outputs": [
    {
     "data": {
      "text/plain": [
       "Text(0.5,1,'26')"
      ]
     },
     "execution_count": 20,
     "metadata": {},
     "output_type": "execute_result"
    },
    {
     "data": {
      "image/png": "[encoded data removed]",
      "text/plain": [
       "<Figure size 432x288 with 1 Axes>"
      ]
     },
     "metadata": {},
     "output_type": "display_data"
    }
   ],
   "source": [
    "plt.imshow(a_face.view(128, 128).cpu(), cmap='gray')\n",
    "plt.title(an_age)"
   ]
  },
  {
   "cell_type": "markdown",
   "metadata": {},
   "source": [
    "# Encoding and Reconstruction Face"
   ]
  },
  {
   "cell_type": "code",
   "execution_count": 23,
   "metadata": {
    "scrolled": true
   },
   "outputs": [],
   "source": [
    "a_face = a_face.to(device)"
   ]
  },
  {
   "cell_type": "code",
   "execution_count": 24,
   "metadata": {},
   "outputs": [
    {
     "data": {
      "text/plain": [
       "tensor([[-0.9004,  0.4838, -0.2439, -0.2676, -1.7577, -0.6721,  0.6496, -0.8634,\n",
       "          1.8183,  0.2855,  1.4066, -0.7586, -2.3237, -1.2585,  1.0214, -2.0552,\n",
       "          0.7118,  0.6456, -1.9625,  0.3993,  0.0536, -0.0584,  1.0464, -0.1908,\n",
       "          0.9523, -1.1005,  0.0675,  0.7515,  4.5439, -0.9655, -0.4512, -1.0844,\n",
       "         -0.9506, -0.4734, -0.1890,  0.1037, -0.0185,  1.0368,  0.1320,  0.1641,\n",
       "          0.6331, -0.8914, -0.6001,  1.5035, -2.0397, -0.3861, -0.4444, -0.8881,\n",
       "         -1.4269, -0.4574]], device='cuda:0', grad_fn=<AddmmBackward>)"
      ]
     },
     "execution_count": 24,
     "metadata": {},
     "output_type": "execute_result"
    }
   ],
   "source": [
    "encoded_face, _ = model.encode(a_face)\n",
    "encoded_face"
   ]
  },
  {
   "cell_type": "code",
   "execution_count": 25,
   "metadata": {},
   "outputs": [],
   "source": [
    "reconst_face = model.decode(encoded_face)"
   ]
  },
  {
   "cell_type": "markdown",
   "metadata": {},
   "source": [
    "# Prediction of Faces and Various Ages"
   ]
  },
  {
   "cell_type": "code",
   "execution_count": 39,
   "metadata": {},
   "outputs": [],
   "source": [
    "def predict_face(encoded_face, age, target_age, model):\n",
    "    # Transition Age Vector in Latent Space\n",
    "\n",
    "    def avg_age_encoded_face(age):\n",
    "        items = test_dataset.get_faces_of_age(age)\n",
    "        faces = list(map(lambda item: item[0].numpy(), items))\n",
    "        faces = np.array(faces)\n",
    "        face_imgs = torch.from_numpy(faces).to(device)\n",
    "        means, _ = model.encode(face_imgs)\n",
    "        avg_encoded_face = torch.mean(means, dim=0)\n",
    "        return avg_encoded_face\n",
    "\n",
    "    latent_source = avg_age_encoded_face(age)\n",
    "    latent_target = avg_age_encoded_face(target_age)\n",
    "\n",
    "    transition_vector = latent_target - latent_source\n",
    "    transition_vector\n",
    "\n",
    "    # Decoding Age Transition on Encoded Face\n",
    "\n",
    "    aged_encoding = encoded_face + transition_vector\n",
    "    aged_encoding\n",
    "\n",
    "    aged_face = model.decode(aged_encoding)\n",
    "    return aged_face"
   ]
  },
  {
   "cell_type": "code",
   "execution_count": null,
   "metadata": {},
   "outputs": [],
   "source": [
    "target_ages = [1, 5, 20, 40, 60, 80]"
   ]
  },
  {
   "cell_type": "code",
   "execution_count": null,
   "metadata": {
    "scrolled": true
   },
   "outputs": [],
   "source": [
    "plt.figure(figsize=(len(target_ages) * 5, 10))\n",
    "plt.subplot(2,len(target_ages), 1)\n",
    "plt.imshow(a_face.view(128, 128).detach().cpu(), cmap='gray')\n",
    "plt.title('A person of age {}'.format(an_age))\n",
    "\n",
    "plt.subplot(2,len(target_ages), 2)\n",
    "plt.imshow(reconst_face.view(128, 128).detach().cpu(), cmap='gray')\n",
    "plt.title('A reconstruction of age {}'.format(an_age))\n",
    "\n",
    "for i, target_age in tqdmn(enumerate(target_ages)):\n",
    "    plt.subplot(2,len(target_ages), len(target_ages)+i+1)\n",
    "    \n",
    "    aged_face = predict_face(encoded_face, an_age, target_age, model)\n",
    "    \n",
    "    plt.imshow(aged_face.view(128, 128).detach().cpu(), cmap='gray')\n",
    "    plt.title('Prediction for age {}'.format(target_age))"
   ]
  },
  {
   "cell_type": "code",
   "execution_count": null,
   "metadata": {},
   "outputs": [],
   "source": []
  }
 ],
 "metadata": {
  "kernelspec": {
   "display_name": "Python [default]",
   "language": "python",
   "name": "python3"
  },
  "language_info": {
   "codemirror_mode": {
    "name": "ipython",
    "version": 3
   },
   "file_extension": ".py",
   "mimetype": "text/x-python",
   "name": "python",
   "nbconvert_exporter": "python",
   "pygments_lexer": "ipython3",
   "version": "3.5.5"
  }
 },
 "nbformat": 4,
 "nbformat_minor": 2
}
